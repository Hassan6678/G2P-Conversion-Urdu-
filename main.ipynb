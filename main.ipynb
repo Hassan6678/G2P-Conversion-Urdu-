{
 "cells": [
  {
   "cell_type": "markdown",
   "metadata": {},
   "source": [
    "## Let's Go ..."
   ]
  },
  {
   "cell_type": "code",
   "execution_count": 1,
   "metadata": {},
   "outputs": [],
   "source": [
    "import numpy as np"
   ]
  },
  {
   "cell_type": "code",
   "execution_count": 2,
   "metadata": {},
   "outputs": [],
   "source": [
    "urdu_phonetic_inventory={\n",
    "    'p' : 'پ',\n",
    "    'pʰ' : 'پھ',\n",
    "    'b' : 'ب',\n",
    "    'bʰ' : 'بھ',\n",
    "    'm' : 'م',\n",
    "    'mʰ' : 'مھ',\n",
    "    't̪' : 'ت',\n",
    "    't̪' : 'ط',\n",
    "    't̪ʰ' : 'تھ',\n",
    "    'd̪' : 'د',\n",
    "    'd̪ʰ' : 'دھ',\n",
    "    'ʈ' : 'ٹ',\n",
    "    'ʈʰ' : 'ٹھ',\n",
    "    'ɖ' : 'ڈ',\n",
    "    'ɖʰ' : 'ڈھ',\n",
    "    'n' : 'ن',\n",
    "    'nʰ':'نھ',\n",
    "    'k' : 'ک',\n",
    "    'kʰ' : 'کھ',\n",
    "    'g' : 'گ',\n",
    "    'ɡʰ' : 'گھ',\n",
    "    'ŋ' :   'ن', #Special case\n",
    "    'q' : 'ق',\n",
    "    'ʔ' : 'ع',\n",
    "    'f' : 'ف',\n",
    "    'v' : 'و',\n",
    "    's' : 'س',\n",
    "    's' : 'ص',\n",
    "    's' : 'ث',\n",
    "    'z' : 'ذ',\n",
    "    'z' : 'ض',\n",
    "    'z' : 'ظ',\n",
    "    'z' : 'ز',\n",
    "    'ʃ': 'ش',\n",
    "    'ʒ' : 'ژ',\n",
    "    'x' : 'خ',\n",
    "    'ɣ' : 'غ',\n",
    "    'h' : 'ه',\n",
    "    'h' : 'ح',\n",
    "    'l' : 'ل',\n",
    "    'lʰ' : 'لھ',\n",
    "    'r' : 'ر',\n",
    "    'rʰ' : 'رھ',\n",
    "    'ɽ' : 'ڑ',\n",
    "    'ɽʰ' : 'ڑھ',\n",
    "    'j' : 'ی',\n",
    "    'jʰ' : 'یھ',\n",
    "    'ʧ' : 'چ',\n",
    "    'ʧʰ' : 'چھ',\n",
    "    'ʤ' : 'ج',\n",
    "    'ʤʰ' : 'جھ'\n",
    "    \n",
    "}"
   ]
  },
  {
   "cell_type": "code",
   "execution_count": null,
   "metadata": {},
   "outputs": [],
   "source": []
  }
 ],
 "metadata": {
  "kernelspec": {
   "display_name": "Python 3.7.1 64-bit",
   "language": "python",
   "name": "python3"
  },
  "language_info": {
   "codemirror_mode": {
    "name": "ipython",
    "version": 3
   },
   "file_extension": ".py",
   "mimetype": "text/x-python",
   "name": "python",
   "nbconvert_exporter": "python",
   "pygments_lexer": "ipython3",
   "version": "3.7.1"
  },
  "orig_nbformat": 4,
  "vscode": {
   "interpreter": {
    "hash": "753cedd98399b984ff7ce64c091fff2e66dee429919726e503dc47428fd50bcd"
   }
  }
 },
 "nbformat": 4,
 "nbformat_minor": 2
}
