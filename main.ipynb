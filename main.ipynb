{
 "cells": [
  {
   "cell_type": "markdown",
   "metadata": {},
   "source": [
    "## Let's Go ..."
   ]
  },
  {
   "cell_type": "code",
   "execution_count": 1,
   "metadata": {},
   "outputs": [],
   "source": [
    "urdu_phonetic_inventory={\n",
    "    'p' : 'پ',\n",
    "    'pʰ' : 'پھ',\n",
    "    'b' : 'ب',\n",
    "    'bʰ' : 'بھ',\n",
    "    'm' : 'م',\n",
    "    'mʰ' : 'مھ',\n",
    "    't̪' : 'ت',\n",
    "    't̪_1' : 'ط',\n",
    "    't̪ʰ' : 'تھ',\n",
    "    'd̪' : 'د',\n",
    "    'd̪ʰ' : 'دھ',\n",
    "    'ʈ' : 'ٹ',\n",
    "    'ʈʰ' : 'ٹھ',\n",
    "    'ɖ' : 'ڈ',\n",
    "    'ɖʰ' : 'ڈھ',\n",
    "    'n' : 'ن',\n",
    "    'nʰ':'نھ',\n",
    "    'k' : 'ک',\n",
    "    'kʰ' : 'کھ',\n",
    "    'g' : 'گ',\n",
    "    'ɡʰ' : 'گھ',\n",
    "    'ŋ' :   'ن', #Special case\n",
    "    'q' : 'ق',\n",
    "    'ʔ' : 'ع',\n",
    "    'f' : 'ف',\n",
    "    'v' : 'و',\n",
    "    's' : 'س',\n",
    "    's_1' : 'ص',\n",
    "    's_2' : 'ث',\n",
    "    'z' : 'ذ',\n",
    "    'z_1' : 'ض',\n",
    "    'z_2' : 'ظ',\n",
    "    'z_3' : 'ز',\n",
    "    'ʃ': 'ش',\n",
    "    'ʒ' : 'ژ',\n",
    "    'x' : 'خ',\n",
    "    'ɣ' : 'غ',\n",
    "    'h' : 'ه',\n",
    "    'h' : 'ح',\n",
    "    'l' : 'ل',\n",
    "    'lʰ' : 'لھ',\n",
    "    'r' : 'ر',\n",
    "    'rʰ' : 'رھ',\n",
    "    'ɽ' : 'ڑ',\n",
    "    'ɽʰ' : 'ڑھ',\n",
    "    'j' : 'ی',\n",
    "    'jʰ' : 'یھ',\n",
    "    'ʧ' : 'چ',\n",
    "    'ʧʰ' : 'چھ',\n",
    "    'ʤ' : 'ج',\n",
    "    'ʤʰ' : 'جھ',\n",
    "    # Vowels\n",
    "    'u:' : 'وُ',\n",
    "    'ũ:' : 'وُں',\n",
    "    'o:' : 'و',\n",
    "    'õ:' : 'وں',\n",
    "    'ɔ:' : 'وَ',\n",
    "    'ɔ̃:' : 'وَں',\n",
    "    'ɑ:' : 'ا',\n",
    "    'ɑ:_1' : 'آ',\n",
    "    'ɑ̃' : 'اں',\n",
    "    'ɑ̃_1' : 'آں',\n",
    "    'i:' : 'ی',\n",
    "    'ĩ:' : 'یِں',\n",
    "    'e:' : 'ے',\n",
    "    'ẽ:' : 'یں',\n",
    "    'e' : 'ه◌ِ',\n",
    "    'o' : 'ه◌ُ',\n",
    "    'æ:' : 'ےَ',\n",
    "    'æ̃:' : 'یَں',\n",
    "    'ɪ' : '◌ِ',\n",
    "    'ə' : '◌َ',\n",
    "    'ə_1' : 'ء',\n",
    "    'ʊ' : '◌ُ',\n",
    "    'ɪ' : 'ں◌', #check\n",
    "    'ʊ' :  'ں◌ُ',\n",
    "    'ə_2' : 'ں◌َ',\n",
    "    # Diphthongs ...\n",
    "    # 'əi:' : '◌َ',\n",
    "    'əi:' : 'ءی',\n",
    "    'əe:' : 'ءے',\n",
    "    'ɑ:e:' : 'آئے',\n",
    "    'ɑ:i:' : 'آئی',\n",
    "    'ɪũ:' : 'وں◌ِ',  # urdu character is 4 ['و', 'ں', '◌', 'ِ']\n",
    "    'æa:' : 'ےَا',\n",
    "    'ʊi:' : 'وُی',\n",
    "    'o:i:' : 'وی',\n",
    "    'ɑ:ɪ' : 'آءِ',\n",
    "    'ɑ:e' : 'آءِ',\n",
    "    'eɑ:' : 'ا◌ِ',\n",
    "}"
   ]
  },
  {
   "cell_type": "code",
   "execution_count": 2,
   "metadata": {},
   "outputs": [
    {
     "data": {
      "text/plain": [
       "84"
      ]
     },
     "execution_count": 2,
     "metadata": {},
     "output_type": "execute_result"
    }
   ],
   "source": [
    "len(urdu_phonetic_inventory)"
   ]
  },
  {
   "cell_type": "code",
   "execution_count": 3,
   "metadata": {},
   "outputs": [
    {
     "name": "stdout",
     "output_type": "stream",
     "text": [
      "['وُں'] > ['و', 'ُ', 'ں']\n",
      "['وَں'] > ['و', 'َ', 'ں']\n",
      "['یِں'] > ['ی', 'ِ', 'ں']\n",
      "['ه◌ِ'] > ['ه', '◌', 'ِ']\n",
      "['ه◌ُ'] > ['ه', '◌', 'ُ']\n",
      "['یَں'] > ['ی', 'َ', 'ں']\n",
      "['ں◌ُ'] > ['ں', '◌', 'ُ']\n",
      "['ں◌َ'] > ['ں', '◌', 'َ']\n",
      "['آئے'] > ['آ', 'ئ', 'ے']\n",
      "['آئی'] > ['آ', 'ئ', 'ی']\n",
      "['ےَا'] > ['ے', 'َ', 'ا']\n",
      "['وُی'] > ['و', 'ُ', 'ی']\n",
      "['آءِ'] > ['آ', 'ء', 'ِ']\n",
      "['آءِ'] > ['آ', 'ء', 'ِ']\n",
      "['ا◌ِ'] > ['ا', '◌', 'ِ']\n"
     ]
    },
    {
     "data": {
      "text/plain": [
       "Counter({1: 40, 2: 28, 3: 15, 4: 1})"
      ]
     },
     "execution_count": 3,
     "metadata": {},
     "output_type": "execute_result"
    }
   ],
   "source": [
    "from collections import Counter\n",
    "test =[]\n",
    "for ur_p in urdu_phonetic_inventory.values():\n",
    "    test.append(len([*ur_p]))\n",
    "    if len([*ur_p])==3:\n",
    "        print([ur_p],'>',[*ur_p])\n",
    "Counter(test)"
   ]
  },
  {
   "cell_type": "code",
   "execution_count": 4,
   "metadata": {},
   "outputs": [
    {
     "data": {
      "text/plain": [
       "1615"
      ]
     },
     "execution_count": 4,
     "metadata": {},
     "output_type": "execute_result"
    }
   ],
   "source": [
    "ord([*'◌ُ'][1])"
   ]
  },
  {
   "cell_type": "code",
   "execution_count": null,
   "metadata": {},
   "outputs": [],
   "source": []
  }
 ],
 "metadata": {
  "kernelspec": {
   "display_name": "Python 3.7.1 64-bit",
   "language": "python",
   "name": "python3"
  },
  "language_info": {
   "codemirror_mode": {
    "name": "ipython",
    "version": 3
   },
   "file_extension": ".py",
   "mimetype": "text/x-python",
   "name": "python",
   "nbconvert_exporter": "python",
   "pygments_lexer": "ipython3",
   "version": "3.7.1"
  },
  "orig_nbformat": 4,
  "vscode": {
   "interpreter": {
    "hash": "753cedd98399b984ff7ce64c091fff2e66dee429919726e503dc47428fd50bcd"
   }
  }
 },
 "nbformat": 4,
 "nbformat_minor": 2
}
